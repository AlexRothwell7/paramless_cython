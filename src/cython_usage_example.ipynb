{
 "worksheets": [
  {
   "cells": [
    {
     "cell_type": "code",
     "execution_count": null,
     "metadata": {},
     "outputs": [],
     "input": [
      "%pylab inline\n",
      "%load_ext cythonmagic\n",
      "from scipy.integrate import simps"
     ],
     "language": "python",
     "prompt_number": 1
    },
    {
     "cell_type": "code",
     "execution_count": null,
     "metadata": {},
     "outputs": [],
     "input": [
      "import pyximport; pyximport.install(setup_args={\"include_dirs\":numpy.get_include()})\n",
      "import paramless as pmain\n",
      "import paramless_cython as pm"
     ],
     "language": "python",
     "prompt_number": 2
    },
    {
     "cell_type": "markdown",
     "metadata": {},
     "source": [
      "#Using Cython to improve the runtime"
     ]
    },
    {
     "cell_type": "markdown",
     "metadata": {},
     "source": [
      "This notebook will show a simple example of improving the runtime of an evolution run using Cython functions. To do this we'll build on the Seasonal Flowering example."
     ]
    },
    {
     "cell_type": "markdown",
     "metadata": {},
     "source": [
      "The functions used there are given below:"
     ]
    },
    {
     "cell_type": "code",
     "execution_count": null,
     "metadata": {},
     "outputs": [],
     "input": [
      "class FloweringFitness(pm.FitnessFunction):\n",
      "    def __init__(self, domain, alpha, beta):\n",
      "        self.domain = domain\n",
      "        self.alpha = alpha\n",
      "        self.beta = beta\n",
      "        \n",
      "    def get(self, resident, mutant = None):\n",
      "        pass"
     ],
     "language": "python",
     "prompt_number": 3
    },
    {
     "cell_type": "code",
     "execution_count": null,
     "metadata": {},
     "outputs": [],
     "input": [
      "def p_x(self, a, x, k):\n",
      "    #takes a, and functions x and k\n",
      "    return math.e**(-x[a]/k(a))\n",
      "\n",
      "FloweringFitness.p_x = p_x"
     ],
     "language": "python",
     "prompt_number": 4
    },
    {
     "cell_type": "code",
     "execution_count": null,
     "metadata": {},
     "outputs": [],
     "input": [
      "def k(self, a):\n",
      "    return 100*(2 + math.sin(2*math.pi*((a-1.0)**2.0 - 0.25)))\n",
      "\n",
      "FloweringFitness.k_function = k"
     ],
     "language": "python",
     "prompt_number": 5
    },
    {
     "cell_type": "code",
     "execution_count": null,
     "metadata": {},
     "outputs": [],
     "input": [
      "def c(self, e, alpha):\n",
      "    return 2.0/(1 + math.e**(-alpha*e))\n",
      "\n",
      "FloweringFitness.c = c"
     ],
     "language": "python",
     "prompt_number": 6
    },
    {
     "cell_type": "code",
     "execution_count": null,
     "metadata": {},
     "outputs": [],
     "input": [
      "def birth(self, x_mutant, x_resident, domain, alpha, beta, k_function):\n",
      "    x_resident_dict = dict(zip(domain, x_resident))\n",
      "    x_mutant_dict = dict(zip(domain, x_mutant))\n",
      "    integrand = [x_mutant_dict[a]*self.c((x_mutant_dict[a]-x_resident_dict[a])/(x_mutant_dict[a]**beta), alpha)*self.p_x(a, x_resident_dict, k_function)\n",
      "                 if x_mutant_dict[a] != 0.0\n",
      "                 else 0.0\n",
      "                 for a in domain]\n",
      "    return simps(integrand, domain)\n",
      "\n",
      "FloweringFitness.birth = birth"
     ],
     "language": "python",
     "prompt_number": 7
    },
    {
     "cell_type": "code",
     "execution_count": null,
     "metadata": {},
     "outputs": [],
     "input": [
      "def flowering_fitness(self, resident, mutant = None):\n",
      "    fitness_resident = self.birth(resident, resident, self.domain, self.alpha, self.beta, self.k_function)\n",
      "    if not mutant is None:    \n",
      "        fitness_mutant = self.birth(mutant, resident, self.domain, self.alpha, self.beta, self.k_function)\n",
      "        return fitness_resident, fitness_mutant\n",
      "    else:\n",
      "        return fitness_resident\n",
      "\n",
      "FloweringFitness.get = flowering_fitness"
     ],
     "language": "python",
     "prompt_number": 8
    },
    {
     "cell_type": "markdown",
     "metadata": {},
     "source": [
      "These can all be redefined using Cython definitions and types:"
     ]
    },
    {
     "cell_type": "code",
     "execution_count": null,
     "metadata": {},
     "outputs": [],
     "input": [
      "%%cython\n",
      "import numpy as np\n",
      "cimport numpy as np\n",
      "import math\n",
      "from scipy.integrate import simps\n",
      "from libc.math cimport exp, sin\n",
      "\n",
      "cdef class cyFloweringFitness:\n",
      "    #Class members need to be declared before assignment\n",
      "    cdef double [:] domain\n",
      "    cdef double alpha, beta\n",
      "    def __init__(self, np.ndarray[double, ndim=1] domain, double alpha, double beta):\n",
      "        self.domain = domain\n",
      "        self.alpha = alpha\n",
      "        self.beta = beta\n",
      "        \n",
      "    cdef double p_x(self, double a, x):\n",
      "        return exp(-x[a]/self.k(a))\n",
      "\n",
      "    cdef double k(self, double a):\n",
      "        return 100*(2 + sin(2*math.pi*((a-1.0)**2.0 - 0.25)))\n",
      "\n",
      "    cdef double c(self, e):\n",
      "        return 2.0/(1 + exp(-self.alpha*e))\n",
      "\n",
      "    cdef double birth(self, double [:] x_mutant, double [:] x_resident):\n",
      "        x_resident_dict = dict(zip(np.asarray(self.domain), np.asarray(x_resident)))\n",
      "        x_mutant_dict = dict(zip(np.asarray(self.domain), np.asarray(x_mutant)))\n",
      "        integrand = [x_mutant_dict[a]*self.c((x_mutant_dict[a]-x_resident_dict[a])/(x_mutant_dict[a]**self.beta))*self.p_x(a, x_resident_dict) for a in self.domain]\n",
      "        return simps(integrand, self.domain)\n",
      "        \n",
      "        \n",
      "    def get(self, double [:] resident, double [:] mutant = None):\n",
      "        fitness_resident = self.birth(resident, resident)\n",
      "        if not mutant is None:    \n",
      "            fitness_mutant = self.birth(mutant, resident)\n",
      "            return fitness_resident, fitness_mutant\n",
      "        else:\n",
      "            return fitness_resident"
     ],
     "language": "python",
     "prompt_number": 9
    },
    {
     "cell_type": "heading",
     "metadata": {},
     "level": 4,
     "source": [
      "An alternative method for utilising Cython is through the \"Pure Python Mode\", described at http://docs.cython.org/src/tutorial/pure.html"
     ]
    },
    {
     "cell_type": "heading",
     "metadata": {},
     "level": 3,
     "source": [
      "Set up timing"
     ]
    },
    {
     "cell_type": "code",
     "execution_count": null,
     "metadata": {},
     "outputs": [],
     "input": [
      "import timeit\n",
      "times = []\n",
      "names = []"
     ],
     "language": "python",
     "prompt_number": 10
    },
    {
     "cell_type": "code",
     "execution_count": null,
     "metadata": {},
     "outputs": [],
     "input": [
      "domain = np.arange(0.001, 1.0, 0.01)"
     ],
     "language": "python",
     "prompt_number": 11
    },
    {
     "cell_type": "code",
     "execution_count": null,
     "metadata": {},
     "outputs": [],
     "input": [
      "initial_surface = np.ones_like(domain)"
     ],
     "language": "python",
     "prompt_number": 12
    },
    {
     "cell_type": "code",
     "execution_count": null,
     "metadata": {},
     "outputs": [],
     "input": [
      "number_of_generations = 5000"
     ],
     "language": "python",
     "prompt_number": 13
    },
    {
     "cell_type": "code",
     "execution_count": null,
     "metadata": {},
     "outputs": [],
     "input": [
      "%%capture\n",
      "seed = 777\n",
      "\n",
      "fitness_function = FloweringFitness(domain, 1.0, 0.9)\n",
      "mutator = pm.GaussianDistributionMutator(0.01, domain, 0.05)\n",
      "evolver = pm.StandardEvolver(fitness_function, mutator)\n",
      "pm.setup(seed)\n",
      "\n",
      "ans, series = pmain.evolve(initial_surface, evolver,\n",
      "                     iterations=number_of_generations,\n",
      "                     return_time_series=True, seed=seed)\n",
      "\n",
      "times.append(min(timeit.Timer('pmain.evolve(initial_surface=initial_surface, evolver=evolver, iterations=number_of_generations, return_time_series=True, seed=seed)', \n",
      "            'from __main__ import initial_surface, evolver, number_of_generations, seed;import pyximport; pyximport.install();import paramless_cython as pm;import paramless as pmain').repeat(repeat=3, number=3)))\n",
      "names.append('Original')"
     ],
     "language": "python",
     "prompt_number": 16
    },
    {
     "cell_type": "code",
     "execution_count": null,
     "metadata": {},
     "outputs": [],
     "input": [
      "%%capture\n",
      "cy_fitness = cyFloweringFitness(domain, 1.0, 0.9)\n",
      "mutator = pm.GaussianDistributionMutator(0.01, domain, 0.05)\n",
      "evolver = pm.StandardEvolver(cy_fitness, mutator)\n",
      "pm.setup(seed)\n",
      "\n",
      "cyAns, series = pmain.evolve(initial_surface, evolver,\n",
      "                     iterations=number_of_generations,\n",
      "                     return_time_series=True, seed=seed)\n",
      "\n",
      "times.append(min(timeit.Timer('pmain.evolve(initial_surface=initial_surface, evolver=evolver, iterations=number_of_generations, return_time_series=True, seed=seed)', \n",
      "            'from __main__ import initial_surface, evolver, number_of_generations, seed;import paramless as pmain').repeat(repeat=3, number=3)))\n",
      "names.append('Cython')"
     ],
     "language": "python",
     "prompt_number": 18
    },
    {
     "cell_type": "heading",
     "metadata": {},
     "level": 3,
     "source": [
      "Ensure that the code is equivalent:"
     ]
    },
    {
     "cell_type": "code",
     "execution_count": null,
     "metadata": {},
     "outputs": [
      {
       "output_type": "pyout",
       "prompt_number": 19,
       "text": [
        "[<matplotlib.lines.Line2D at 0x7f1cbfe3bc90>]"
       ],
       "metadata": {}
      },
      {
       "output_type": "display_data",
       "png": "[encoded data removed]",
       "text": [
        "<matplotlib.figure.Figure at 0x7f1cbfe3ba90>"
       ],
       "metadata": {}
      }
     ],
     "input": [
      "plot(domain, ans)\n",
      "plot(domain,cyAns)"
     ],
     "language": "python",
     "prompt_number": 19
    },
    {
     "cell_type": "code",
     "execution_count": null,
     "metadata": {},
     "outputs": [
      {
       "output_type": "display_data",
       "png": "[encoded data removed]",
       "text": [
        "<matplotlib.figure.Figure at 0x7f1cbfd111d0>"
       ],
       "metadata": {}
      }
     ],
     "input": [
      "#Adapted from http://nbviewer.ipython.org/github/rasbt/python_reference/blob/master/tutorials/running_cython.ipynb\n",
      "from matplotlib import pyplot as plt\n",
      "import numpy as np\n",
      "\n",
      "fig = plt.figure(figsize=(10,8))\n",
      "\n",
      "# plot bars\n",
      "y_pos = np.arange(len(times)) + .5\n",
      "plt.yticks(y_pos, names, fontsize=14)\n",
      "bars = plt.barh(y_pos, times,\n",
      "         align='center', alpha=0.4, color='g')\n",
      "\n",
      "# annotation and labels\n",
      "\n",
      "for b,d in zip(bars, times):\n",
      "    plt.text(max(times)+1.5, b.get_y() + b.get_height()/2.5, \n",
      "             '{:.3}'.format(d),\n",
      "             ha='center', va='bottom', fontsize=12)\n",
      "\n",
      "plt.ylim([-1,len(times)+0.5])\n",
      "plt.grid()\n",
      "plt.ylim([0,len(times)])\n",
      "\n",
      "plt.show()"
     ],
     "language": "python",
     "prompt_number": 20
    },
    {
     "cell_type": "code",
     "execution_count": null,
     "metadata": {},
     "outputs": [],
     "input": [
      ""
     ],
     "language": "python"
    }
   ]
  }
 ],
 "cells": [],
 "metadata": {
  "name": "",
  "signature": "sha256:fc17bafc653e1605ef1c6fdcc9abf392ac63759a77f2e8347a64ee054cdb4c6d"
 },
 "nbformat": 3,
 "nbformat_minor": 0
}